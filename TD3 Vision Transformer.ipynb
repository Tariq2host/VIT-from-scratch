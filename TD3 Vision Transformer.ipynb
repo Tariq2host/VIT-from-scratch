{
  "cells": [
    {
      "cell_type": "markdown",
      "metadata": {},
      "source": [
        "# TD3: Vision Transformer (ViT)\n",
        "\n",
        "In this TD, you must modify this notebook to complete the code (**# TO DO comments**) and complete the **proposed experiments**. To do this,\n",
        "\n",
        "1. Fork this repository\n",
        "2. Clone your forked repository on your local computer\n",
        "3. Add your code and answer the questions\n",
        "4. Commit and push regularly\n",
        "\n",
        "**The last commit is due on Sunday, 14th January 2024**. Later commits will not be taken into account.\n",
        "\n",
        "As the computation is heavy, particularly during training, we encourage you to use a GPU. If your laptob is not equiped, you may use one of these remote jupyter servers, where you can select the execution on GPU :\n",
        "\n",
        "1) [jupyter.mi90.ec-lyon.fr](https://jupyter.mi90.ec-lyon.fr/)\n",
        "\n",
        "This server is accessible within the campus network. If outside, you need to use a VPN. Before executing the notebook, select the kernel \"Python PyTorch\" to run it on GPU and have access to PyTorch module.\n",
        "\n",
        "2) [Google Colaboratory](https://colab.research.google.com/)\n",
        "\n",
        "Before executing the notebook, select the execution on GPU : \"Exécution\" Menu -> \"Modifier le type d'exécution\" and select \"T4 GPU\". "
      ]
    },
    {
      "cell_type": "markdown",
      "metadata": {},
      "source": [
        "### Goal of the TD\n",
        "\n",
        "Transformers have been introduced by [Vaswani et al. in 2017](https://arxiv.org/abs/1706.03762) in the context of NLP (Natural Language Processing), and particulary for Machine Translation.\n",
        "\n",
        "Its great success has led to its adaptation to various applications, including image classification. In this trend, [Dosovitskiy et al. in 2020](https://arxiv.org/abs/2010.11929) have proposed Vision Transformers (ViT) that we will study and implement from scratch in this TD.\n",
        "\n",
        "The principle is illustrated in the following picture from this paper.\n",
        "\n",
        "![Vision Tranformers](./figures/vit.png \"Vision Transformers\")\n",
        "\n",
        "First, an input image is “cut” into sub-images equally sized.\n",
        "\n",
        "Each such sub-image goes through a linear embedding. From then, each sub-image becomes a one-dimensional vector.\n",
        "\n",
        "A positional embedding is then added to these vectors (tokens). The positional embedding allows the network to know where each sub-image is positioned originally in the image. Without this information, the network would not be able to know where each such image would be placed, leading to potentially wrong predictions.\n",
        "\n",
        "These tokens are then passed, together with a special classification token, to the transformer encoders blocks, were each is composed of : A Layer Normalization (LN), followed by a Multi-head Self Attention (MSA) and a residual connection. Then a second LN, a Multi-Layer Perceptron (MLP), and again a residual connection. These blocks are connected back-to-back.\n",
        "\n",
        "Finally, a classification MLP head is used for the final classification only on the special classification token, which by the end of this process has global information about the picture.\n"
      ]
    },
    {
      "cell_type": "markdown",
      "metadata": {},
      "source": [
        "### Implementation of the ViT model"
      ]
    },
    {
      "cell_type": "markdown",
      "metadata": {},
      "source": [
        "First, we import the required modules."
      ]
    },
    {
      "cell_type": "code",
      "execution_count": 3,
      "metadata": {
        "colab": {
          "base_uri": "https://localhost:8080/"
        },
        "id": "wEmbaOA4Okuo",
        "outputId": "2bf953f2-2a18-44f3-c537-db8c6d58d4ee"
      },
      "outputs": [],
      "source": [
        "# Import modules\n",
        "import numpy as np\n",
        "import torch\n",
        "import torch.nn as nn\n",
        "from torch.nn import CrossEntropyLoss\n",
        "from torch.optim import Adam\n",
        "from torch.utils.data import DataLoader\n",
        "from torchvision.datasets.mnist import MNIST\n",
        "from torchvision.transforms import ToTensor"
      ]
    },
    {
      "cell_type": "markdown",
      "metadata": {},
      "source": [
        "For this first experiment, we will use the MNIST dataset that contains 28x28 binary pixels images of hand-written digits ([0–9])."
      ]
    },
    {
      "cell_type": "code",
      "execution_count": 4,
      "metadata": {},
      "outputs": [],
      "source": [
        "# Load data\n",
        "transform = ToTensor()\n",
        "\n",
        "train_set = MNIST(\n",
        "    root=\"datasets\", train=True, download=True, transform=transform\n",
        ")\n",
        "test_set = MNIST(\n",
        "    root=\"datasets\", train=False, download=True, transform=transform\n",
        ")\n",
        "\n",
        "train_loader = DataLoader(train_set, shuffle=True, batch_size=128)\n",
        "test_loader = DataLoader(test_set, shuffle=False, batch_size=128)"
      ]
    },
    {
      "cell_type": "markdown",
      "metadata": {},
      "source": [
        "### \"Patchification\"\n",
        "The transformer encoder was originally developed with sequence data in mind, such as English sentences. However, as an image is not a sequence, we need to “sequencify” an image. To do this, we break it into multiple sub-images and map each sub-image to a vector.\n",
        "\n",
        "We do so by simply reshaping our input, which has size (N, C, H, W), where N is the batch size, C the number of channels and (H,W) the image dimension. In the case of MNIST, dimensions are (N, 1, 28, 28). The target dimension is (N, #Patches, Patch dimensionality), where the dimensionality of a patch is adjusted accordingly.\n",
        "\n",
        "In this example, we break each (1, 28, 28) into 7x7 patches (hence, each of size 4x4). That is, we are going to obtain 7x7=49 sub-images out of a single image.\n",
        "\n",
        "Thus, we reshape input (N, 1, 28, 28) to (N, PxP, HxC/P x WxC/P) = (N, 49, 16)\n",
        "\n",
        "Notice that, while each patch is a picture of size 1x4x4, we flatten it to a 16-dimensional vector. Also, in this case, we only had a single color channel. If we had multiple color channels, those would also have been flattened into the vector."
      ]
    },
    {
      "cell_type": "code",
      "execution_count": 10,
      "metadata": {
        "id": "fxhHKKDFOoHp"
      },
      "outputs": [],
      "source": [
        "def patchify(images, n_patches):\n",
        "    n, c, h, w = images.shape\n",
        "\n",
        "    assert h == w, \"Patchify method is implemented for square images only\"\n",
        "\n",
        "    patches = torch.zeros(n, n_patches**2, h * w * c // n_patches**2)\n",
        "    patch_size = h // n_patches\n",
        "\n",
        "    for idx, image in enumerate(images):\n",
        "        for i in range(n_patches):\n",
        "            for j in range(n_patches):\n",
        "                patch = image[\n",
        "                    :,\n",
        "                    i * patch_size : (i + 1) * patch_size,\n",
        "                    j * patch_size : (j + 1) * patch_size,\n",
        "                ]\n",
        "                patches[idx, i * n_patches + j] = patch.flatten()\n",
        "    return patches"
      ]
    },
    {
      "cell_type": "markdown",
      "metadata": {},
      "source": [
        "### Linear embedding\n",
        "\n",
        "Now that we have our flattened patches, we can map each of them through a Linear mapping. While each patch was a 4x4=16 dimensional vector, the linear mapping can map to any arbitrary vector size. Thus, we will use for this a parameter `hidden_d` for \"hidden dimension\".\n",
        "\n",
        "In this example, we will use a hidden dimension of 8, but in principle, any number can be put here. We will thus be mapping each 16-dimensional patch to an 8-dimensional patch.\n"
      ]
    },
    {
      "cell_type": "markdown",
      "metadata": {},
      "source": [
        "### Positional encoding\n",
        "\n",
        "Positional encoding allows the model to understand where each patch would be placed in the original image. While it is theoretically possible to learn such positional embeddings, previous work by [Vaswani et al. in 2017](https://arxiv.org/abs/1706.03762) suggests that we can just add sines and cosines waves.\n",
        "\n",
        "In particular, positional encoding adds high-frequency values to the first dimensions and lower-frequency values to the latter dimensions.\n",
        "\n",
        "In each sequence, for token i we add to its j-th coordinate the following value:\n",
        "\n",
        "![Positional encoding](./figures/positional_encoding.png \"Positional encoding\").\n",
        "\n",
        "This positional embedding is a function of the number of elements in the sequence and the dimensionality of each element. Thus, it is always a 2-dimensional tensor or “rectangle”.\n",
        "\n",
        "Here is a simple function that, given the number of tokens and the dimensionality of each of them, outputs a matrix where each coordinate (i,j) is the value to be added to token i in dimension j.\n",
        "\n",
        "This positional encoding is added to our model after the linear mapping and the addition of the class token."
      ]
    },
    {
      "cell_type": "code",
      "execution_count": 11,
      "metadata": {
        "id": "bOaI_5SrO4vB"
      },
      "outputs": [],
      "source": [
        "def get_positional_embeddings(sequence_length, d):\n",
        "    result = torch.ones(sequence_length, d)\n",
        "    for i in range(sequence_length):\n",
        "        for j in range(d):\n",
        "            result[i][j] = (\n",
        "                np.sin(i / (10000 ** (j / d)))\n",
        "                if j % 2 == 0\n",
        "                else np.cos(i / (10000 ** ((j - 1) / d)))\n",
        "            )\n",
        "    return result"
      ]
    },
    {
      "cell_type": "markdown",
      "metadata": {},
      "source": [
        "### Multi-Head Self-Attention\n",
        "\n",
        "The objective is now that, for a single image, each patch has to be updated based on some similarity measure with the other patches. We do so by linearly mapping each patch (that is now an 8-dimensional vector in our example) to 3 distinct vectors: q, k, and v (query, key, value).\n",
        "\n",
        "Then, for a single patch, we are going to compute the dot product between its q vector with all of the k vectors, divide by the square root of the dimensionality of these vectors (sqrt(8)), softmax these so-called attention cues, and finally multiply each attention cue with the v vectors associated with the different k vectors and sum all up.\n",
        "\n",
        "In this way, each patch assumes a new value that is based on its similarity (after the linear mapping to q, k, and v) with other patches. This whole procedure, however, is carried out H times on H sub-vectors of our current 8-dimensional patches, where H is the number of Heads. \n",
        "\n",
        "Once all results are obtained, they are concatenated together. Finally, the result is passed through a linear layer (for good measure).\n",
        "\n",
        "The intuitive idea behind attention is that it allows modeling the relationship between the inputs. What makes a ‘0’ a zero are not the individual pixel values, but how they relate to each other.\n",
        "\n",
        "This is implemented in the MSA class:"
      ]
    },
    {
      "cell_type": "code",
      "execution_count": 20,
      "metadata": {
        "id": "CIoyR-QsOruC"
      },
      "outputs": [],
      "source": [
        "class MSA(nn.Module):\n",
        "    def __init__(self, d, n_heads=2):\n",
        "        super().__init__()\n",
        "        self.d = d\n",
        "        self.n_heads = n_heads\n",
        "\n",
        "        assert d % n_heads == 0, f\"Can't divide dimension {d} into {n_heads} heads\"\n",
        "\n",
        "        d_head = int(d / n_heads)\n",
        "        self.q_mappings = nn.ModuleList(\n",
        "            [nn.Linear(d_head, d_head) for _ in range(self.n_heads)]\n",
        "        )\n",
        "        self.k_mappings = nn.ModuleList(\n",
        "            [nn.Linear(d_head, d_head) for _ in range(self.n_heads)]\n",
        "        )\n",
        "        self.v_mappings = nn.ModuleList(\n",
        "            [nn.Linear(d_head, d_head) for _ in range(self.n_heads)]\n",
        "        )\n",
        "        self.d_head = d_head\n",
        "        self.softmax = nn.Softmax(dim=-1)\n",
        "\n",
        "    def forward(self, sequences):\n",
        "        # Sequences has shape (N, seq_length, token_dim)\n",
        "        # We go into shape    (N, seq_length, n_heads, token_dim / n_heads)\n",
        "        # And come back to    (N, seq_length, item_dim)  (through concatenation)\n",
        "        result = []\n",
        "        for sequence in sequences:\n",
        "            seq_result = []\n",
        "            for head in range(self.n_heads):\n",
        "                q_mapping = self.q_mappings[head]\n",
        "                k_mapping = self.k_mappings[head]\n",
        "                v_mapping = self.v_mappings[head]\n",
        "\n",
        "                seq = sequence[:, head * self.d_head : (head + 1) * self.d_head]\n",
        "                q, k, v = q_mapping(seq), k_mapping(seq), v_mapping(seq)\n",
        "                # implement attention computation\n",
        "                # for a single patch, we are going to compute the dot product between its q vector with all of the k vectors,\n",
        "                # divide by the square root of the dimensionality of these vectors (sqrt(8)),\n",
        "                # Compute score attention\n",
        "                attention = self.softmax(q @ k.T / (self.d_head**0.5))\n",
        "                seq_result.append(attention @ v)\n",
        "            result.append(torch.hstack(seq_result))\n",
        "        return torch.cat([torch.unsqueeze(r, dim=0) for r in result])"
      ]
    },
    {
      "cell_type": "markdown",
      "metadata": {},
      "source": [
        "Notice that, for each head, we create distinct Q, K, and V mapping functions (square matrices of size 4x4 in our example).\n",
        "\n",
        "Since our inputs will be sequences of size (N, 50, 8), and we only use 2 heads, we will at some point have an (N, 50, 2, 4) tensor, use a nn.Linear(4, 4) module on it, and then come back, after concatenation, to an (N, 50, 8) tensor.\n",
        "\n",
        "Also notice that using loops is not the most efficient way to compute the multi-head self-attention, but it makes the code much clearer for learning."
      ]
    },
    {
      "cell_type": "markdown",
      "metadata": {},
      "source": [
        "### Transformer Encoder Blocks\n",
        "\n",
        "The next step is to create the transformer encoder block class.\n",
        "\n",
        "Layer normalization (LN) is a popular block that, given an input, subtracts its mean and divides by the standard deviation. It is applied to the last dimension only. We can thus make each of our 50x8 matrices (representing a single sequence) have mean 0 and std 1. After we run our (N, 50, 8) tensor through LN, we still get the same dimensionality.\n",
        "\n",
        "Also, We will be using residual connection that consists in adding the original input to the result of some computation. This, intuitively, allows a network to become more powerful while also preserving the set of possible functions that the model can approximate.\n",
        "\n",
        "We will add a residual connection that will add our original (N, 50, 8) tensor to the (N, 50, 8) obtained after LN and MSA. \n",
        "\n",
        "Next is to add a simple residual connection between what we already have and what we get after passing the current tensor through another LN and an MLP. The MLP is composed of two layers, where the hidden layer typically is four times as big (this is a parameter).\n",
        "\n",
        "The transformer encoder block class (which will be a component of the future ViT class) is thus as follows:"
      ]
    },
    {
      "cell_type": "code",
      "execution_count": 21,
      "metadata": {
        "id": "sv8wnTx4OwP7"
      },
      "outputs": [],
      "source": [
        "class ViTBlock(nn.Module):\n",
        "    def __init__(self, hidden_d, n_heads, mlp_ratio=4):\n",
        "        super().__init__()\n",
        "        self.hidden_d = hidden_d\n",
        "        self.n_heads = n_heads\n",
        "\n",
        "        self.norm1 = nn.LayerNorm(hidden_d)\n",
        "        self.mhsa = MSA(hidden_d, n_heads)\n",
        "        self.norm2 = nn.LayerNorm(hidden_d)\n",
        "        self.mlp = nn.Sequential(\n",
        "            nn.Linear(hidden_d, mlp_ratio * hidden_d),\n",
        "            nn.GELU(),\n",
        "            nn.Linear(mlp_ratio * hidden_d, hidden_d),\n",
        "        )\n",
        "\n",
        "    def forward(self, x):\n",
        "        # implement the forward pass\n",
        "        # First residual connection\n",
        "        out = self.norm1(x)\n",
        "        out = self.mhsa(out)\n",
        "        out = out + x\n",
        "        # Second residual connection\n",
        "        out = self.norm2(out)\n",
        "        out = self.mlp(out)\n",
        "        out = out + x\n",
        "        return out"
      ]
    },
    {
      "cell_type": "markdown",
      "metadata": {},
      "source": [
        "### ViT model\n",
        "\n",
        "Now that the encoder block is ready, we just need to insert it in our bigger ViT model which is responsible for patchifying before the transformer blocks, and carrying out the classification after.\n",
        "\n",
        "To help classification, we will use an additional **classification token** to the input sequence. This is a special token that we add to our model that has the role of capturing information about the other tokens. This will happen with the MSA block. When information about all other tokens will be present here, we will be able to classify the image using only this special token. The initial value of the special token (the one fed to the transformer encoder) is a parameter of the model that needs to be learned.\n",
        "\n",
        "Thus, we will add a parameter to our model and convert our (N, 49, 8) tokens tensor to an (N, 50, 8) tensor (we add the special token to each sequence).\n",
        "\n",
        "We could have an arbitrary number of transformer blocks. In this example, to keep it simple, I will use only 2. We also add a parameter to know how many heads does each encoder block will use.\n",
        "\n",
        "Finally, we can extract just the classification token (first token) out of our N sequences, and use each token to get N classifications.\n",
        "\n",
        "Since we decided that each token is an 8-dimensional vector, and since we have 10 possible digits, we can implement the classification MLP as a simple 8x10 matrix, activated with the SoftMax function.\n",
        "\n",
        "The output of our model shoud be an (N, 10) tensor. "
      ]
    },
    {
      "cell_type": "code",
      "execution_count": 14,
      "metadata": {
        "id": "8Na9BTgnOy3o"
      },
      "outputs": [],
      "source": [
        "class ViT(nn.Module):\n",
        "    def __init__(self, chw, n_patches=7, n_blocks=2, hidden_d=8, n_heads=2, out_d=10):\n",
        "        # Super constructor\n",
        "        super().__init__()\n",
        "\n",
        "        # Attributes\n",
        "        self.chw = chw  # ( C , H , W )\n",
        "        self.n_patches = n_patches\n",
        "        self.n_blocks = n_blocks\n",
        "        self.n_heads = n_heads\n",
        "        self.hidden_d = hidden_d\n",
        "\n",
        "        # Input and patches sizes\n",
        "        assert (\n",
        "            chw[1] % n_patches == 0\n",
        "        ), \"Input shape not entirely divisible by number of patches\"\n",
        "        assert (\n",
        "            chw[2] % n_patches == 0\n",
        "        ), \"Input shape not entirely divisible by number of patches\"\n",
        "        self.patch_size = (chw[1] / n_patches, chw[2] / n_patches)\n",
        "\n",
        "        # 1) Linear mapper\n",
        "        self.input_d = int(chw[0] * self.patch_size[0] * self.patch_size[1])\n",
        "        self.linear_mapper = nn.Linear(self.input_d, self.hidden_d)\n",
        "\n",
        "        # 2) Learnable classification token\n",
        "        self.class_token = nn.Parameter(torch.rand(1, self.hidden_d))\n",
        "\n",
        "        # 3) Positional embedding\n",
        "        self.register_buffer(\n",
        "            \"positional_embeddings\",\n",
        "            get_positional_embeddings(n_patches**2 + 1, hidden_d),\n",
        "            persistent=False,\n",
        "        )\n",
        "\n",
        "        # 4) Transformer encoder blocks\n",
        "        self.blocks = nn.ModuleList(\n",
        "            [ViTBlock(hidden_d, n_heads) for _ in range(n_blocks)]\n",
        "        )\n",
        "\n",
        "        # 5) Classification MLPk\n",
        "        self.mlp = nn.Sequential(nn.Linear(self.hidden_d, out_d), nn.Softmax(dim=-1))\n",
        "\n",
        "    def forward(self, images):\n",
        "        #\n",
        "        # TO DO: implement the forward pass\n",
        "        #\n",
        "        # Dividing images into patches\n",
        "        n, c, h, w = images.shape\n",
        "        patches = patchify(images, self.n_patches).to(self.positional_embeddings.device)\n",
        "        \n",
        "        # Running linear layer tokenization\n",
        "        # Map the vector corresponding to each patch to the hidden size dimension\n",
        "        tokens = self.linear_mapper(patches)\n",
        "        \n",
        "        # Adding classification token to the tokens\n",
        "        tokens = torch.cat((self.class_token.expand(n, 1, -1), tokens), dim=1)\n",
        "        \n",
        "        # Adding positional embedding\n",
        "        out = tokens + self.positional_embeddings.repeat(n, 1, 1)\n",
        "        \n",
        "        # Transformer Blocks\n",
        "        for block in self.blocks:\n",
        "            out = block(out)\n",
        "            \n",
        "        # Getting the classification token only\n",
        "        out = out[:, 0]\n",
        "\n",
        "        # Map to output dimension, output category distribution\n",
        "        out = self.mlp(out)\n",
        "\n",
        "        return out"
      ]
    },
    {
      "cell_type": "markdown",
      "metadata": {},
      "source": [
        "### ViT training\n",
        "\n",
        "The ViT model being built, the next step is to train it on the MNIST dataset."
      ]
    },
    {
      "cell_type": "markdown",
      "metadata": {},
      "source": [
        "First, we initialize the model and the hyperparameters."
      ]
    },
    {
      "cell_type": "code",
      "execution_count": 22,
      "metadata": {},
      "outputs": [
        {
          "name": "stdout",
          "output_type": "stream",
          "text": [
            "Using device:  cpu \n"
          ]
        }
      ],
      "source": [
        "device = torch.device(\"cuda\" if torch.cuda.is_available() else \"cpu\")\n",
        "print(\n",
        "    \"Using device: \",\n",
        "    device,\n",
        "    f\"({torch.cuda.get_device_name(device)})\" if torch.cuda.is_available() else \"\",\n",
        ")\n",
        "\n",
        "model = ViT(\n",
        "    (1, 28, 28), n_patches=7, n_blocks=2, hidden_d=8, n_heads=2, out_d=10\n",
        ").to(device)\n",
        "\n",
        "N_EPOCHS = 5\n",
        "LR = 0.005"
      ]
    },
    {
      "cell_type": "markdown",
      "metadata": {},
      "source": [
        "Training of the ViT model:"
      ]
    },
    {
      "cell_type": "code",
      "execution_count": 23,
      "metadata": {},
      "outputs": [
        {
          "name": "stdout",
          "output_type": "stream",
          "text": [
            "Epoch 1/5 loss: 2.07\n",
            "Epoch 2/5 loss: 1.85\n",
            "Epoch 3/5 loss: 1.80\n",
            "Epoch 4/5 loss: 1.77\n",
            "Epoch 5/5 loss: 1.74\n"
          ]
        }
      ],
      "source": [
        "optimizer = Adam(model.parameters(), lr=LR)\n",
        "criterion = CrossEntropyLoss()\n",
        "for epoch in range(N_EPOCHS):\n",
        "    train_loss = 0.0\n",
        "    for batch in train_loader:\n",
        "        x, y = batch\n",
        "        x, y = x.to(device), y.to(device)\n",
        "        y_hat = model(x)\n",
        "        loss = criterion(y_hat, y)\n",
        "\n",
        "        train_loss += loss.detach().cpu().item() / len(train_loader)\n",
        "\n",
        "        optimizer.zero_grad()\n",
        "        loss.backward()\n",
        "        optimizer.step()\n",
        "\n",
        "    print(f\"Epoch {epoch + 1}/{N_EPOCHS} loss: {train_loss:.2f}\")"
      ]
    },
    {
      "cell_type": "markdown",
      "metadata": {},
      "source": [
        "### ViT test\n",
        "\n",
        "Finally, let's test the trained model."
      ]
    },
    {
      "cell_type": "code",
      "execution_count": 25,
      "metadata": {
        "id": "h55dVGGhOaPI"
      },
      "outputs": [
        {
          "name": "stdout",
          "output_type": "stream",
          "text": [
            "Test loss: 1.71\n",
            "Test accuracy: 75.41%\n"
          ]
        }
      ],
      "source": [
        "with torch.no_grad():\n",
        "    correct, total = 0, 0\n",
        "    test_loss = 0.0\n",
        "    for batch in test_loader:\n",
        "        x, y = batch\n",
        "        x, y = x.to(device), y.to(device)\n",
        "        y_hat = model(x)\n",
        "        loss = criterion(y_hat, y)\n",
        "        test_loss += loss.detach().cpu().item() / len(test_loader)\n",
        "        correct += torch.sum(torch.argmax(y_hat, dim=1) == y).detach().cpu().item()\n",
        "        total += len(x)\n",
        "    print(f\"Test loss: {test_loss:.2f}\")\n",
        "    print(f\"Test accuracy: {correct / total * 100:.2f}%\")\n"
      ]
    },
    {
      "cell_type": "markdown",
      "metadata": {},
      "source": [
        "## Further experiments\n",
        "\n",
        "1. Adapt the code to apply the ViT model on CIFAR dataset.\n",
        "2. Make use of a validation set to evaluate overfitting.\n",
        "3. Evaluate the model with a dimension of 16 for the tokens and 4 encoder blocks."
      ]
    },
    {
      "cell_type": "markdown",
      "metadata": {},
      "source": [
        "## Import CIFAR dataset"
      ]
    },
    {
      "cell_type": "markdown",
      "metadata": {},
      "source": [
        "let's import the CIFAR dataset but without validation split first "
      ]
    },
    {
      "cell_type": "code",
      "execution_count": 4,
      "metadata": {},
      "outputs": [
        {
          "name": "stdout",
          "output_type": "stream",
          "text": [
            "Files already downloaded and verified\n",
            "Files already downloaded and verified\n"
          ]
        }
      ],
      "source": [
        "from torchvision.datasets import CIFAR10\n",
        "import numpy as np \n",
        "\n",
        "np.random.seed(0)\n",
        "torch.manual_seed(0)\n",
        "     \n",
        "# Loading data\n",
        "transform = ToTensor()\n",
        "\n",
        "train_set = CIFAR10(\n",
        "        root=\"./../datasets\", train=True, download=True, transform=transform\n",
        ")\n",
        "test_set = CIFAR10(\n",
        "        root=\"./../datasets\", train=False, download=True, transform=transform\n",
        ")\n",
        "\n",
        "train_loader = DataLoader(train_set, shuffle=True, batch_size=128)\n",
        "test_loader = DataLoader(test_set, shuffle=False, batch_size=128)"
      ]
    },
    {
      "cell_type": "markdown",
      "metadata": {},
      "source": [
        "### Multi-Head Self-Attention"
      ]
    },
    {
      "cell_type": "markdown",
      "metadata": {},
      "source": [
        "Nothing to change from the previous implementation"
      ]
    },
    {
      "cell_type": "code",
      "execution_count": 5,
      "metadata": {},
      "outputs": [],
      "source": [
        "class MyMSA(nn.Module):\n",
        "    def __init__(self, d, n_heads=2):\n",
        "        super(MyMSA, self).__init__()\n",
        "        self.d = d\n",
        "        self.n_heads = n_heads\n",
        "\n",
        "        assert d % n_heads == 0, f\"Can't divide dimension {d} into {n_heads} heads\"\n",
        "\n",
        "        d_head = int(d / n_heads)\n",
        "        self.q_mappings = nn.ModuleList(\n",
        "            [nn.Linear(d_head, d_head) for _ in range(self.n_heads)]\n",
        "        )\n",
        "        self.k_mappings = nn.ModuleList(\n",
        "            [nn.Linear(d_head, d_head) for _ in range(self.n_heads)]\n",
        "        )\n",
        "        self.v_mappings = nn.ModuleList(\n",
        "            [nn.Linear(d_head, d_head) for _ in range(self.n_heads)]\n",
        "        )\n",
        "        self.d_head = d_head\n",
        "        self.softmax = nn.Softmax(dim=-1)\n",
        "\n",
        "    def forward(self, sequences):\n",
        "        # Sequences has shape (N, seq_length, token_dim)\n",
        "        # We go into shape    (N, seq_length, n_heads, token_dim / n_heads)\n",
        "        # And come back to    (N, seq_length, item_dim)  (through concatenation)\n",
        "        result = []\n",
        "        for sequence in sequences:\n",
        "            seq_result = []\n",
        "            for head in range(self.n_heads):\n",
        "                q_mapping = self.q_mappings[head]\n",
        "                k_mapping = self.k_mappings[head]\n",
        "                v_mapping = self.v_mappings[head]\n",
        "\n",
        "                seq = sequence[:, head * self.d_head : (head + 1) * self.d_head]\n",
        "                q, k, v = q_mapping(seq), k_mapping(seq), v_mapping(seq)\n",
        "\n",
        "                attention = self.softmax(q @ k.T / (self.d_head**0.5))\n",
        "                seq_result.append(attention @ v)\n",
        "            result.append(torch.hstack(seq_result))\n",
        "        return torch.cat([torch.unsqueeze(r, dim=0) for r in result])"
      ]
    },
    {
      "cell_type": "markdown",
      "metadata": {},
      "source": [
        "### Transformer Encoder Blocks"
      ]
    },
    {
      "cell_type": "markdown",
      "metadata": {},
      "source": [
        "Nothing to change from the previous implementation"
      ]
    },
    {
      "cell_type": "code",
      "execution_count": 6,
      "metadata": {},
      "outputs": [],
      "source": [
        "class MyViTBlock(nn.Module):\n",
        "    def __init__(self, hidden_d, n_heads, mlp_ratio=4):\n",
        "        super(MyViTBlock, self).__init__()\n",
        "        self.hidden_d = hidden_d\n",
        "        self.n_heads = n_heads\n",
        "\n",
        "        self.norm1 = nn.LayerNorm(hidden_d)\n",
        "        self.mhsa = MyMSA(hidden_d, n_heads)\n",
        "        self.norm2 = nn.LayerNorm(hidden_d)\n",
        "        self.mlp = nn.Sequential(\n",
        "            nn.Linear(hidden_d, mlp_ratio * hidden_d),\n",
        "            nn.GELU(),\n",
        "            nn.Linear(mlp_ratio * hidden_d, hidden_d),\n",
        "        )\n",
        "\n",
        "    def forward(self, x):\n",
        "        out = x + self.mhsa(self.norm1(x))\n",
        "        out = out + self.mlp(self.norm2(out))\n",
        "        return out"
      ]
    },
    {
      "cell_type": "markdown",
      "metadata": {},
      "source": [
        "### ViT model"
      ]
    },
    {
      "cell_type": "markdown",
      "metadata": {},
      "source": [
        "The number of output classes (out_d) is set to 10, which corresponds to the number of classes in CIFAR-10."
      ]
    },
    {
      "cell_type": "code",
      "execution_count": 7,
      "metadata": {},
      "outputs": [],
      "source": [
        "class MyViT(nn.Module):\n",
        "    def __init__(self, chw, n_patches=7, n_blocks=2, hidden_d=8, n_heads=2, out_d=10):\n",
        "        # Super constructor\n",
        "        super(MyViT, self).__init__()\n",
        "\n",
        "        # Attributes\n",
        "        self.chw = chw  # ( C , H , W )\n",
        "        self.n_patches = n_patches\n",
        "        self.n_blocks = n_blocks\n",
        "        self.n_heads = n_heads\n",
        "        self.hidden_d = hidden_d\n",
        "\n",
        "        # Input and patches sizes\n",
        "        assert (\n",
        "            chw[1] % n_patches == 0\n",
        "        ), \"Input shape not entirely divisible by the number of patches\"\n",
        "        assert (\n",
        "            chw[2] % n_patches == 0\n",
        "        ), \"Input shape not entirely divisible by the number of patches\"\n",
        "        self.patch_size = (chw[1] / n_patches, chw[2] / n_patches)\n",
        "\n",
        "        # 1) Linear mapper\n",
        "        self.input_d = int(chw[0] * self.patch_size[0] * self.patch_size[1])\n",
        "        self.linear_mapper = nn.Linear(self.input_d, self.hidden_d)\n",
        "\n",
        "        # 2) Learnable classification token\n",
        "        self.class_token = nn.Parameter(torch.rand(1, self.hidden_d))\n",
        "\n",
        "        # 3) Positional embedding\n",
        "        self.register_buffer(\n",
        "            \"positional_embeddings\",\n",
        "            get_positional_embeddings(n_patches**2 + 1, hidden_d),\n",
        "            persistent=False,\n",
        "        )\n",
        "\n",
        "        # 4) Transformer encoder blocks\n",
        "        self.blocks = nn.ModuleList(\n",
        "            [MyViTBlock(hidden_d, n_heads) for _ in range(n_blocks)]\n",
        "        )\n",
        "\n",
        "        # 5) Classification MLP\n",
        "        self.mlp = nn.Sequential(nn.Linear(self.hidden_d, out_d), nn.Softmax(dim=-1))\n",
        "\n",
        "    def forward(self, images):\n",
        "        # Dividing images into patches\n",
        "        n, c, h, w = images.shape\n",
        "        patches = patchify(images, self.n_patches).to(self.positional_embeddings.device)\n",
        "\n",
        "        # Running linear layer tokenization\n",
        "        # Map the vector corresponding to each patch to the hidden size dimension\n",
        "        tokens = self.linear_mapper(patches)\n",
        "\n",
        "        # Adding classification token to the tokens\n",
        "        tokens = torch.cat((self.class_token.expand(n, 1, -1), tokens), dim=1)\n",
        "\n",
        "        # Adding positional embedding\n",
        "        out = tokens + self.positional_embeddings.repeat(n, 1, 1)\n",
        "\n",
        "        # Transformer Blocks\n",
        "        for block in self.blocks:\n",
        "            out = block(out)\n",
        "\n",
        "        # Getting the classification token only\n",
        "        out = out[:, 0]\n",
        "\n",
        "        return self.mlp(out)  # Map to output dimension, output category distribution"
      ]
    },
    {
      "cell_type": "markdown",
      "metadata": {},
      "source": [
        "### ViT training"
      ]
    },
    {
      "cell_type": "markdown",
      "metadata": {},
      "source": [
        "Updated the input dimensions of the model to (3, 32, 32) of the CIFAR images"
      ]
    },
    {
      "cell_type": "code",
      "execution_count": 33,
      "metadata": {},
      "outputs": [
        {
          "name": "stdout",
          "output_type": "stream",
          "text": [
            "Using device:  cpu \n"
          ]
        }
      ],
      "source": [
        "# Defining model and training options\n",
        "device = torch.device(\"cuda\" if torch.cuda.is_available() else \"cpu\")\n",
        "print(\n",
        "        \"Using device: \",\n",
        "        device,\n",
        "        f\"({torch.cuda.get_device_name(device)})\" if torch.cuda.is_available() else \"\",\n",
        "    )\n",
        "model = MyViT(\n",
        "    (3, 32, 32), n_patches=8, n_blocks=2, hidden_d=8, n_heads=2, out_d=10\n",
        ").to(device)\n",
        "N_EPOCHS = 5\n",
        "LR = 0.005\n"
      ]
    },
    {
      "cell_type": "markdown",
      "metadata": {},
      "source": [
        "### Training loop (without validation)"
      ]
    },
    {
      "cell_type": "code",
      "execution_count": 36,
      "metadata": {},
      "outputs": [
        {
          "name": "stdout",
          "output_type": "stream",
          "text": [
            "Epoch 1/5 loss: 2.21\n",
            "Epoch 2/5 loss: 2.15\n",
            "Epoch 3/5 loss: 2.13\n",
            "Epoch 4/5 loss: 2.12\n",
            "Epoch 5/5 loss: 2.11\n"
          ]
        }
      ],
      "source": [
        "optimizer = Adam(model.parameters(), lr=LR)\n",
        "criterion = CrossEntropyLoss()\n",
        "for epoch in range(N_EPOCHS):\n",
        "    train_loss = 0.0\n",
        "    for batch in train_loader:\n",
        "        x, y = batch\n",
        "        x, y = x.to(device), y.to(device)\n",
        "        y_hat = model(x)\n",
        "        loss = criterion(y_hat, y)\n",
        "\n",
        "        train_loss += loss.detach().cpu().item() / len(train_loader)\n",
        "\n",
        "        optimizer.zero_grad()\n",
        "        loss.backward()\n",
        "        optimizer.step()\n",
        "\n",
        "    print(f\"Epoch {epoch + 1}/{N_EPOCHS} loss: {train_loss:.2f}\")"
      ]
    },
    {
      "cell_type": "markdown",
      "metadata": {},
      "source": [
        "### Test loop"
      ]
    },
    {
      "cell_type": "code",
      "execution_count": 37,
      "metadata": {},
      "outputs": [
        {
          "name": "stdout",
          "output_type": "stream",
          "text": [
            "Test loss: 2.11\n",
            "Test accuracy: 33.91%\n"
          ]
        }
      ],
      "source": [
        "\n",
        "with torch.no_grad():\n",
        "    correct, total = 0, 0\n",
        "    test_loss = 0.0\n",
        "    for batch in test_loader:\n",
        "        x, y = batch\n",
        "        x, y = x.to(device), y.to(device)\n",
        "        y_hat = model(x)\n",
        "        loss = criterion(y_hat, y)\n",
        "        test_loss += loss.detach().cpu().item() / len(test_loader)\n",
        "\n",
        "        correct += torch.sum(torch.argmax(y_hat, dim=1) == y).detach().cpu().item()\n",
        "        total += len(x)\n",
        "    print(f\"Test loss: {test_loss:.2f}\")\n",
        "    print(f\"Test accuracy: {correct / total * 100:.2f}%\")\n"
      ]
    },
    {
      "cell_type": "markdown",
      "metadata": {},
      "source": [
        "From 75.41% (MNIMST dataset) to 33.91% (CIFAR dataset) in the test accuracy ! \n",
        "Let's a hope better preformance with validation set."
      ]
    },
    {
      "cell_type": "markdown",
      "metadata": {},
      "source": [
        "### Loading data and creating a validation set"
      ]
    },
    {
      "cell_type": "code",
      "execution_count": 8,
      "metadata": {},
      "outputs": [
        {
          "name": "stdout",
          "output_type": "stream",
          "text": [
            "Files already downloaded and verified\n"
          ]
        }
      ],
      "source": [
        "from torch.utils.data import random_split\n",
        "\n",
        "transform = ToTensor()\n",
        "\n",
        "dataset = CIFAR10(root=\"./datasets\", train=True, download=True, transform=transform)\n",
        "\n",
        "# Splitting dataset into train and validation sets\n",
        "train_size = int(0.8 * len(dataset))\n",
        "val_size = len(dataset) - train_size\n",
        "train_set, val_set = random_split(dataset, [train_size, val_size])\n",
        "\n",
        "train_loader = DataLoader(train_set, shuffle=True, batch_size=128)\n",
        "val_loader = DataLoader(val_set, shuffle=False, batch_size=128)"
      ]
    },
    {
      "cell_type": "markdown",
      "metadata": {},
      "source": [
        "### Use a model with 16 tokens and 4 encoder blocks"
      ]
    },
    {
      "cell_type": "code",
      "execution_count": 12,
      "metadata": {},
      "outputs": [
        {
          "name": "stdout",
          "output_type": "stream",
          "text": [
            "Using device:  cpu \n"
          ]
        }
      ],
      "source": [
        "# Defining model and training options\n",
        "device = torch.device(\"cuda\" if torch.cuda.is_available() else \"cpu\")\n",
        "print(\n",
        "        \"Using device: \",\n",
        "        device,\n",
        "        f\"({torch.cuda.get_device_name(device)})\" if torch.cuda.is_available() else \"\",\n",
        "    )\n",
        "    \n",
        "# Use a model with 16 tokens and 4 encoder blocks\n",
        "model = MyViT(\n",
        "        (3, 32, 32), n_patches=8, n_blocks=4, hidden_d=16, n_heads=2, out_d=10\n",
        "    ).to(device)\n",
        "    \n",
        "N_EPOCHS = 5\n",
        "LR = 0.005"
      ]
    },
    {
      "cell_type": "markdown",
      "metadata": {},
      "source": [
        "### Training loop"
      ]
    },
    {
      "cell_type": "code",
      "execution_count": 13,
      "metadata": {},
      "outputs": [
        {
          "name": "stdout",
          "output_type": "stream",
          "text": [
            "Epoch 1/5 Train Loss: 2.21\n",
            "Epoch 1/5 Validation Loss: 2.16\n",
            "Epoch 1/5 Validation Accuracy: 29.06%\n",
            "Epoch 2/5 Train Loss: 2.14\n",
            "Epoch 2/5 Validation Loss: 2.12\n",
            "Epoch 2/5 Validation Accuracy: 32.87%\n",
            "Epoch 3/5 Train Loss: 2.11\n",
            "Epoch 3/5 Validation Loss: 2.11\n",
            "Epoch 3/5 Validation Accuracy: 34.11%\n",
            "Epoch 4/5 Train Loss: 2.10\n",
            "Epoch 4/5 Validation Loss: 2.10\n",
            "Epoch 4/5 Validation Accuracy: 35.16%\n",
            "Epoch 5/5 Train Loss: 2.09\n",
            "Epoch 5/5 Validation Loss: 2.09\n",
            "Epoch 5/5 Validation Accuracy: 36.61%\n"
          ]
        }
      ],
      "source": [
        "optimizer = Adam(model.parameters(), lr=LR)\n",
        "criterion = CrossEntropyLoss()\n",
        "\n",
        "list_train_loss = []\n",
        "list_valid_loss = []\n",
        "\n",
        "for epoch in range(N_EPOCHS):\n",
        "    train_loss = 0.0\n",
        "    for batch in train_loader:\n",
        "        x, y = batch\n",
        "        x, y = x.to(device), y.to(device)\n",
        "        y_hat = model(x)\n",
        "        loss = criterion(y_hat, y)\n",
        "\n",
        "        train_loss += loss.detach().cpu().item() / len(train_loader)\n",
        "        list_train_loss.append(train_loss)\n",
        "\n",
        "        optimizer.zero_grad()\n",
        "        loss.backward()\n",
        "        optimizer.step()\n",
        "\n",
        "    print(f\"Epoch {epoch + 1}/{N_EPOCHS} Train Loss: {train_loss:.2f}\")\n",
        "\n",
        "    # Validation loop\n",
        "    with torch.no_grad():\n",
        "        val_loss = 0.0\n",
        "        correct_val = 0\n",
        "        total_val = 0\n",
        "        for batch in val_loader:\n",
        "            x_val, y_val = batch\n",
        "            x_val, y_val = x_val.to(device), y_val.to(device)\n",
        "            y_hat_val = model(x_val)\n",
        "            loss_val = criterion(y_hat_val, y_val)\n",
        "            val_loss += loss_val.detach().cpu().item() / len(val_loader)\n",
        "\n",
        "            list_valid_loss.append(val_loss)\n",
        "\n",
        "            correct_val += torch.sum(\n",
        "                    torch.argmax(y_hat_val, dim=1) == y_val\n",
        "                ).detach().cpu().item()\n",
        "            total_val += len(x_val)\n",
        "\n",
        "        print(f\"Epoch {epoch + 1}/{N_EPOCHS} Validation Loss: {val_loss:.2f}\")\n",
        "        print(f\"Epoch {epoch + 1}/{N_EPOCHS} Validation Accuracy: {correct_val / total_val * 100:.2f}%\")"
      ]
    },
    {
      "cell_type": "code",
      "execution_count": 4,
      "metadata": {},
      "outputs": [
        {
          "data": {
            "image/png": "[encoded data removed]",
            "text/plain": [
              "<Figure size 432x288 with 1 Axes>"
            ]
          },
          "metadata": {
            "needs_background": "light"
          },
          "output_type": "display_data"
        }
      ],
      "source": [
        "import matplotlib.pyplot as plt\n",
        "\n",
        "list_train_loss = [2.21, 2.14, 2.11, 2.10, 2.09]\n",
        "list_valid_loss = [2.16, 2.12, 2.11, 2.10, 2.09]\n",
        "plt.plot(range(len(list_train_loss)), list_train_loss, label='Train Loss')\n",
        "plt.plot(range(len(list_valid_loss)), list_valid_loss, label='Validation Loss')\n",
        "plt.xlabel('Epoch')\n",
        "plt.ylabel('Loss')\n",
        "plt.legend()\n",
        "plt.show()"
      ]
    },
    {
      "cell_type": "markdown",
      "metadata": {},
      "source": [
        "Loss: Both the training and validation loss values are decreasing over time, which is a good sign that the model is learning and improving its predictions over each epoch.\n",
        "\n",
        "Training Loss: This is the loss calculated from the training dataset, which the model directly learns from. It starts higher and consistently decreases, which suggests that the model is fitting the training data well.\n",
        "\n",
        "Validation Loss: Represented by the orange line, the loss calculated from a set of data not seen by the model during training (validation dataset). It's important for this loss to decrease and for the validation curve to follow the training curve closely. If the validation loss is much higher than the training loss, it could indicate overfitting. However, in this case, the validation loss is also decreasing and is quite close to the training loss, which suggests the model is generalizing well to new data."
      ]
    },
    {
      "cell_type": "markdown",
      "metadata": {},
      "source": [
        "let's test ou model trained in our test dataset"
      ]
    },
    {
      "cell_type": "markdown",
      "metadata": {},
      "source": [
        "### Test loop"
      ]
    },
    {
      "cell_type": "code",
      "execution_count": 42,
      "metadata": {},
      "outputs": [
        {
          "name": "stdout",
          "output_type": "stream",
          "text": [
            "Files already downloaded and verified\n",
            "Test Loss: 2.08\n",
            "Test Accuracy: 37.59%\n"
          ]
        }
      ],
      "source": [
        "\n",
        "test_set = CIFAR10(\n",
        "        root=\"./datasets\", train=False, download=True, transform=transform\n",
        "    )\n",
        "test_loader = DataLoader(test_set, shuffle=False, batch_size=128)\n",
        "\n",
        "with torch.no_grad():\n",
        "    correct_test, total_test = 0, 0\n",
        "    test_loss = 0.0\n",
        "    for batch in test_loader:\n",
        "        x_test, y_test = batch\n",
        "        x_test, y_test = x_test.to(device), y_test.to(device)\n",
        "        y_hat_test = model(x_test)\n",
        "        loss_test = criterion(y_hat_test, y_test)\n",
        "        test_loss += loss_test.detach().cpu().item() / len(test_loader)\n",
        "\n",
        "        correct_test += torch.sum(torch.argmax(y_hat_test, dim=1) == y_test).detach().cpu().item()\n",
        "        total_test += len(x_test)\n",
        "\n",
        "    print(f\"Test Loss: {test_loss:.2f}\")\n",
        "    print(f\"Test Accuracy: {correct_test / total_test * 100:.2f}%\")"
      ]
    },
    {
      "cell_type": "markdown",
      "metadata": {},
      "source": [
        "From 75.41% (MNIMST dataset) to 33.91% (CIFAR dataset without validation) to 37.59% (CIFAR dataset with validation) in the test accuracy ! "
      ]
    },
    {
      "cell_type": "markdown",
      "metadata": {},
      "source": [
        "## Conclusion"
      ]
    },
    {
      "cell_type": "markdown",
      "metadata": {},
      "source": [
        "The drop in test accuracy from MNIST to CIFAR-10 is expected because CIFAR-10 is a more challenging dataset with color images and a larger number of classes. The accuracy drop can be attributed to the increased complexity of the images and the need for the model to learn more intricate features.\n",
        "\n",
        "The addition of a validation set allows us to monitor overfitting during training. In our case, the test accuracy slightly increased when using a validation set, which is a positive sign (from overfitting). However, the overall test accuracy on CIFAR-10 is lower than that on MNIST, which is consistent with the dataset's increased complexity. Maybe with hyperparameter tuning, data augmentation we could do better !"
      ]
    }
  ],
  "metadata": {
    "accelerator": "GPU",
    "colab": {
      "gpuType": "T4",
      "provenance": []
    },
    "kernelspec": {
      "display_name": "Python 3",
      "name": "python3"
    },
    "language_info": {
      "codemirror_mode": {
        "name": "ipython",
        "version": 3
      },
      "file_extension": ".py",
      "mimetype": "text/x-python",
      "name": "python",
      "nbconvert_exporter": "python",
      "pygments_lexer": "ipython3",
      "version": "3.9.12"
    }
  },
  "nbformat": 4,
  "nbformat_minor": 0
}
